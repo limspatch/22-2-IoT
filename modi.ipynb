{
 "cells": [
  {
   "cell_type": "code",
   "execution_count": 1,
   "id": "604efaf6-6dcc-4341-864e-aaf2a03ea7c3",
   "metadata": {},
   "outputs": [
    {
     "name": "stdout",
     "output_type": "stream",
     "text": [
      "Running PyMODI (v1.2.0)\n"
     ]
    }
   ],
   "source": [
    "import modi"
   ]
  },
  {
   "cell_type": "code",
   "execution_count": 2,
   "id": "ad63b6ae-9b55-458d-87aa-34770d8e8caf",
   "metadata": {},
   "outputs": [],
   "source": [
    "import time"
   ]
  },
  {
   "cell_type": "code",
   "execution_count": 3,
   "id": "6a1be09e-e4d1-4920-be9a-dcbdcfa3ec02",
   "metadata": {},
   "outputs": [],
   "source": [
    "import playsound #11.29 음성 출력을 위한 모듈 생성"
   ]
  },
  {
   "cell_type": "code",
   "execution_count": 4,
   "id": "d715fe88-3585-4428-999d-8cd3cc164776",
   "metadata": {
    "tags": []
   },
   "outputs": [
    {
     "name": "stdout",
     "output_type": "stream",
     "text": [
      "Initiating serial connection...\n",
      "Serial is open at \"COM6 - MODI Network Module(COM6)\"\n",
      "Start initializing connected MODI modules\n",
      "Network (2046) has been connected!\n",
      "Ir (2483) has been connected!\n",
      "Ir (2483) is not up to date. Please update the module by calling modi.update_module_firmware\n",
      "Led (1420) has been connected!\n",
      "Led (1420) is not up to date. Please update the module by calling modi.update_module_firmware\n",
      "Led (189) has been connected!\n",
      "Speaker (391) has been connected!\n",
      "Speaker (391) is not up to date. Please update the module by calling modi.update_module_firmware\n",
      "Env (1967) has been connected!\n",
      "Env (1967) is not up to date. Please update the module by calling modi.update_module_firmware\n",
      "Ir (696) has been connected!\n",
      "Ir (696) is not up to date. Please update the module by calling modi.update_module_firmware\n",
      "Led (534) has been connected!\n",
      "Led (3716) has been connected!\n",
      "Led (1469) has been connected!\n",
      "Led (1469) is not up to date. Please update the module by calling modi.update_module_firmware\n",
      "Led (3419) has been connected!\n",
      "Display (1764) has been connected!\n",
      "Display (1764) is not up to date. Please update the module by calling modi.update_module_firmware\n",
      "MODI modules are initialized!\n"
     ]
    }
   ],
   "source": [
    "bundle = modi.MODI()"
   ]
  },
  {
   "cell_type": "code",
   "execution_count": 5,
   "id": "45b62898-24f9-47b8-9850-697f4ddc1385",
   "metadata": {},
   "outputs": [],
   "source": [
    "ir1 = bundle.irs[0]\n",
    "ir2 = bundle.irs[1]"
   ]
  },
  {
   "cell_type": "code",
   "execution_count": 6,
   "id": "66526562-6623-4674-b838-f5ff1dfcf135",
   "metadata": {},
   "outputs": [],
   "source": [
    "env = bundle.envs[0]"
   ]
  },
  {
   "cell_type": "code",
   "execution_count": 7,
   "id": "d246d1a8-6a00-4278-9d7e-b97bfdf4f9c1",
   "metadata": {},
   "outputs": [],
   "source": [
    "display = bundle.displays[0] #디스플레이는 횡단보도용임.\n",
    "led_crosswalk = bundle.leds[0] #횡단보도\n",
    "led_traffic = bundle.leds[1] #자동차 신호등\n",
    "led_spotlight1 = bundle.leds[2]\n",
    "led_spotlight2 = bundle.leds[3]\n",
    "led_spotlight3 = bundle.leds[4]\n",
    "led_spotlight4 = bundle.leds[5]\n",
    "speaker = bundle.speakers[0] #11.29 스피커 추가"
   ]
  },
  {
   "cell_type": "code",
   "execution_count": null,
   "id": "39284305-9e32-4a9b-8679-bba3450e6231",
   "metadata": {},
   "outputs": [],
   "source": [
    "#네트워크+적외선2+LED6(보행자/차/spotlight)+디스플레이+환경+스피커\n",
    "#코드 돌리고 바로 실험하면 적외선 센서가 인식을 못해서 실행 한번 더 눌러줘야함!\n",
    "#LED가 6개인데 실험할 때마다 위치가 바뀌어서 실험 때마다 무엇이 보행자/차/spotlight인지 확인해야 함.\n",
    "\n",
    "while(env.brightness > 1): #낮\n",
    "    display.text = \"crosswalk has turned off\" #횡단보도 안켜짐\n",
    "    led_crosswalk.rgb = (100, 0, 0) #횡단보도 빨간불(안켜짐)\n",
    "    led_traffic.rgb = (0, 100, 0) #차 초록불\n",
    "    if 20 <= ir1.proximity <= 100 or 20 <= ir2.proximity <= 100: #만약 사정거리 내로 보행자 진입시, 횡단보도 on 범위 구체화 \n",
    "        display.text = \"pedestrian had detected\"\n",
    "        playsound.playsound('C:/Users/XXX/python/ped_det.mp3') #보행자가 감지됨\n",
    "        display.text = \"crosswalk will turn on\"\n",
    "        playsound.playsound('C:/Users/XXX/python/ped_on.mp3') #횡단보도 on\n",
    "        led_traffic.rgb = (100, 100, 0) #차 주황불 \n",
    "        time.sleep(1) #차량 신호등 주황불 -> 빨간불 time delay\n",
    "        led_crosswalk.rgb = (0, 100, 0) #횡단보도 초록불\n",
    "        led_traffic.rgb = (100, 0, 0) #차 빨간불\n",
    "        led_spotlight1.rgb = (25, 21, 0) #스포트라이트로 자동차에게 보행자가 지나가고 있음을 확실히 각인시킴. 이하동문\n",
    "        led_spotlight2.rgb = (25, 21, 0)\n",
    "        led_spotlight3.rgb = (25, 21, 0)\n",
    "        led_spotlight4.rgb = (25, 21, 0)\n",
    "        remain_time = 10 #남은 횡단보도 시간\n",
    "        for i in range(1, 11, 1):\n",
    "            display.text = f'{remain_time}'\n",
    "            time.sleep(1)\n",
    "            remain_time = 10 - i\n",
    "            if(remain_time >= 0): #횡단보도 신호음\n",
    "                for i in range(1, 10, ):\n",
    "                    speaker.tune = 3900, 100\n",
    "                    time.sleep(0.0000001) #시간 term을 매우 짧게 잡아 삐비빅 소리 구현\n",
    "                    speaker.turn_off()\n",
    "                time.sleep(1) #신호음 사이의 여백\n",
    "        display.text = \"turn to red light\"\n",
    "        playsound.playsound('C:/Users/XXX/python/ped_off.mp3') #횡단보도 off\n",
    "        led_spotlight1.rgb = (0, 0, 0)\n",
    "        led_spotlight2.rgb = (0, 0, 0)\n",
    "        led_spotlight3.rgb = (0, 0, 0)\n",
    "        led_spotlight4.rgb = (0, 0, 0)\n",
    "        led_crosswalk.rgb = (100, 0, 0) #횡단보도 빨간불\n",
    "        led_traffic.rgb = (0, 100, 0) #차 신호 초록불\n",
    "        time.sleep(1)\n",
    "        \n",
    "while(env.brightness <= 1): #밤(나머지 내용은 위와 동일)\n",
    "    display.text = \"crosswalk has turned off\"\n",
    "    led_crosswalk.rgb = (50, 0, 0)\n",
    "    led_traffic.rgb = (0, 50, 0)\n",
    "    if 20 <= ir1.proximity <= 100 or 20 <= ir2.proximity <= 100: \n",
    "        display.text = \"pedestrian had detected\"\n",
    "        playsound.playsound('C:/Users/XXX/python/ped_det.mp3')\n",
    "        display.text = \"crosswalk will turn on\"\n",
    "        playsound.playsound('C:/Users/XXX/python/ped_on.mp3')\n",
    "        led_traffic.rgb = (50, 50, 0)\n",
    "        time.sleep(1)\n",
    "        led_crosswalk.rgb = (0, 50, 0)\n",
    "        led_traffic.rgb = (50, 0, 0)\n",
    "        led_spotlight1.rgb = (50, 42, 0)\n",
    "        led_spotlight2.rgb = (50, 42, 0)\n",
    "        led_spotlight3.rgb = (50, 42, 0)\n",
    "        led_spotlight4.rgb = (50, 42, 0)\n",
    "        remain_time = 10\n",
    "        for i in range(1, 11, 1):\n",
    "            display.text = f'{remain_time}'\n",
    "            time.sleep(1)\n",
    "            remain_time = 10 - i\n",
    "            if(remain_time >= 0):\n",
    "                for i in range(1, 10, ):\n",
    "                    speaker.tune = 3900, 100\n",
    "                    time.sleep(0.0000001)\n",
    "                    speaker.turn_off()\n",
    "                time.sleep(1)\n",
    "        display.text = \"turn to red light\"\n",
    "        playsound.playsound('C:/Users/XXX/python/ped_off.mp3')\n",
    "        led_spotlight1.rgb = (0, 0, 0)\n",
    "        led_spotlight2.rgb = (0, 0, 0)\n",
    "        led_spotlight3.rgb = (0, 0, 0)\n",
    "        led_spotlight4.rgb = (0, 0, 0)\n",
    "        led_crosswalk.rgb = (50, 0, 0)\n",
    "        led_traffic.rgb = (0, 50, 0)\n",
    "        time.sleep(1)\n"
   ]
  },
  {
   "cell_type": "code",
   "execution_count": null,
   "id": "253d3cfe-fdd2-4ea3-a739-72526aae37f1",
   "metadata": {},
   "outputs": [],
   "source": []
  },
  {
   "cell_type": "code",
   "execution_count": null,
   "id": "89f4e5c8-e874-4ff1-882a-4fde8ef2555e",
   "metadata": {},
   "outputs": [],
   "source": []
  }
 ],
 "metadata": {
  "kernelspec": {
   "display_name": "Python 3 (ipykernel)",
   "language": "python",
   "name": "python3"
  },
  "language_info": {
   "codemirror_mode": {
    "name": "ipython",
    "version": 3
   },
   "file_extension": ".py",
   "mimetype": "text/x-python",
   "name": "python",
   "nbconvert_exporter": "python",
   "pygments_lexer": "ipython3",
   "version": "3.9.12"
  }
 },
 "nbformat": 4,
 "nbformat_minor": 5
}
